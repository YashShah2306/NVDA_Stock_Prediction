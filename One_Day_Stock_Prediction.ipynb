{
  "nbformat": 4,
  "nbformat_minor": 0,
  "metadata": {
    "colab": {
      "provenance": []
    },
    "kernelspec": {
      "name": "python3",
      "display_name": "Python 3"
    },
    "language_info": {
      "name": "python"
    }
  },
  "cells": [
    {
      "cell_type": "code",
      "execution_count": null,
      "metadata": {
        "colab": {
          "base_uri": "https://localhost:8080/"
        },
        "id": "W_WIch5muzOh",
        "outputId": "f8e90c40-4981-4799-bb57-11ba51066a98"
      },
      "outputs": [
        {
          "output_type": "stream",
          "name": "stdout",
          "text": [
            "YF.download() has changed argument auto_adjust default to True\n"
          ]
        },
        {
          "output_type": "stream",
          "name": "stderr",
          "text": [
            "\r[*********************100%***********************]  1 of 1 completed"
          ]
        },
        {
          "output_type": "stream",
          "name": "stdout",
          "text": [
            "Price            Close        High         Low        Open     Volume\n",
            "Ticker            NVDA        NVDA        NVDA        NVDA       NVDA\n",
            "Date                                                                 \n",
            "2025-03-17  119.529999  122.889999  118.029999  122.739998  255501500\n",
            "2025-03-18  115.430000  119.019997  114.540001  118.000000  299686900\n",
            "2025-03-19  117.519997  120.449997  115.680000  117.269997  273426200\n",
            "2025-03-20  118.529999  120.199997  116.470001  116.550003  248829700\n",
            "2025-03-21  117.699997  117.989998  115.419998  116.940002  265954100\n"
          ]
        },
        {
          "output_type": "stream",
          "name": "stderr",
          "text": [
            "\n"
          ]
        }
      ],
      "source": [
        "import yfinance as yf\n",
        "import pandas as pd\n",
        "\n",
        "# Fetch historical data for NVIDIA\n",
        "ticker = 'NVDA'\n",
        "start_date = '2024-01-01'\n",
        "end_date = '2025-03-23'\n",
        "data = yf.download(ticker, start=start_date, end=end_date)\n",
        "\n",
        "# Display the first few rows\n",
        "print(data.tail())\n",
        "\n"
      ]
    },
    {
      "cell_type": "code",
      "source": [
        "import pandas as pd\n",
        "import numpy as np\n",
        "import yfinance as yf\n",
        "from statsmodels.tsa.arima.model import ARIMA\n",
        "\n",
        "# Load historical NVDA stock data\n",
        "def get_historical_data():\n",
        "    stock_data = yf.download('NVDA', start='2020-01-01', end='2025-03-07')\n",
        "    return stock_data['Close']\n",
        "\n",
        "# Train ARIMA model and predict next day's price\n",
        "def predict_next_day_price(stock_data):\n",
        "    model = ARIMA(stock_data, order=(5,1,0))  # Example parameters\n",
        "    model_fit = model.fit()\n",
        "    forecast = model_fit.forecast(steps=5)\n",
        "    return forecast\n",
        "\n",
        "# Simulate trading strategy\n",
        "def trading_agent(predictions, balance, shares):\n",
        "    decision = \"HOLD\"\n",
        "    if predictions.iloc[0] > predictions.iloc[-1]:\n",
        "        decision = \"SELL\"\n",
        "    elif predictions.iloc[0] < predictions.iloc[-1]:\n",
        "        decision = \"BUY\"\n",
        "    return decision\n",
        "\n",
        "# Running the simulation\n",
        "stock_prices = get_historical_data()\n",
        "predictions = predict_next_day_price(stock_prices)\n",
        "decision = trading_agent(predictions, 10000, 0)\n",
        "print(\"Trading Decision for Next day:\", decision)"
      ],
      "metadata": {
        "colab": {
          "base_uri": "https://localhost:8080/"
        },
        "id": "nzBx8TSrh5aG",
        "outputId": "fb1146a4-dc6d-41c9-d47e-21b0245aca87"
      },
      "execution_count": null,
      "outputs": [
        {
          "output_type": "stream",
          "name": "stderr",
          "text": [
            "\r[*********************100%***********************]  1 of 1 completed\n",
            "/usr/local/lib/python3.11/dist-packages/statsmodels/tsa/base/tsa_model.py:473: ValueWarning: A date index has been provided, but it has no associated frequency information and so will be ignored when e.g. forecasting.\n",
            "  self._init_dates(dates, freq)\n",
            "/usr/local/lib/python3.11/dist-packages/statsmodels/tsa/base/tsa_model.py:473: ValueWarning: A date index has been provided, but it has no associated frequency information and so will be ignored when e.g. forecasting.\n",
            "  self._init_dates(dates, freq)\n",
            "/usr/local/lib/python3.11/dist-packages/statsmodels/tsa/base/tsa_model.py:473: ValueWarning: A date index has been provided, but it has no associated frequency information and so will be ignored when e.g. forecasting.\n",
            "  self._init_dates(dates, freq)\n"
          ]
        },
        {
          "output_type": "stream",
          "name": "stdout",
          "text": [
            "Trading Decision for Next day: BUY\n"
          ]
        },
        {
          "output_type": "stream",
          "name": "stderr",
          "text": [
            "/usr/local/lib/python3.11/dist-packages/statsmodels/tsa/base/tsa_model.py:837: ValueWarning: No supported index is available. Prediction results will be given with an integer index beginning at `start`.\n",
            "  return get_prediction_index(\n",
            "/usr/local/lib/python3.11/dist-packages/statsmodels/tsa/base/tsa_model.py:837: FutureWarning: No supported index is available. In the next version, calling this method in a model without a supported index will result in an exception.\n",
            "  return get_prediction_index(\n"
          ]
        }
      ]
    },
    {
      "cell_type": "code",
      "source": [
        "import pandas as pd\n",
        "import numpy as np\n",
        "import yfinance as yf\n",
        "from statsmodels.tsa.arima.model import ARIMA\n",
        "\n",
        "# Load historical NVDA stock data till today\n",
        "def get_historical_data():\n",
        "    stock_data = yf.download('NVDA', start='2020-01-01', end='2025-03-07')  # End date as today (T-1)\n",
        "    return stock_data['Close']\n",
        "\n",
        "# Train ARIMA model and predict the next 5 days\n",
        "def predict_next_days(stock_data):\n",
        "    model = ARIMA(stock_data, order=(5,1,0))  # Example (p,d,q) parameters\n",
        "    model_fit = model.fit()\n",
        "    forecast = model_fit.forecast(steps=5)  # Predicting next 5 days\n",
        "    return forecast\n",
        "\n",
        "# Simulate trading strategy based on predictions\n",
        "def trading_agent(predictions, balance, shares, stock_price):\n",
        "    decisions = []\n",
        "    for i in range(len(predictions)):\n",
        "        decision = \"HOLD\"\n",
        "        if i == 0:\n",
        "            # First day: Buy as many shares as possible\n",
        "            shares_to_buy = balance // stock_price\n",
        "            balance -= shares_to_buy * stock_price\n",
        "            decision = f\"BUY {shares_to_buy} shares\"\n",
        "        else:\n",
        "            if predictions.iloc[i] > predictions.iloc[i-1]:  # Price increase, hold or buy\n",
        "                decision = \"HOLD\"\n",
        "            else:  # Price drop, sell\n",
        "                decision = f\"SELL {shares} shares\"\n",
        "                balance += shares * predictions.iloc[i]\n",
        "                shares = 0  # Sold all shares\n",
        "        decisions.append(decision)\n",
        "    return decisions, balance, shares\n",
        "\n",
        "# Running the simulation\n",
        "stock_prices = get_historical_data()\n",
        "predictions = predict_next_days(stock_prices)\n",
        "\n",
        "# Assume stock price on first day of prediction is the last actual closing price\n",
        "initial_stock_price = stock_prices.iloc[-1]\n",
        "\n",
        "# Start with initial conditions\n",
        "initial_balance = 10000\n",
        "initial_shares = 0\n",
        "\n",
        "# Execute trading strategy\n",
        "decisions, final_balance, final_shares = trading_agent(predictions, initial_balance, initial_shares, initial_stock_price)\n",
        "\n",
        "# Prepare results for display\n",
        "results_df = pd.DataFrame({\n",
        "    \"Date\": pd.date_range(start=\"2025-03-10\", periods=5, freq='B'),\n",
        "    \"Predicted Price\": predictions.values,\n",
        "    \"Decision\": decisions\n",
        "})\n",
        "\n",
        "print(\"Trading decision for five days\",results_df)"
      ],
      "metadata": {
        "colab": {
          "base_uri": "https://localhost:8080/"
        },
        "id": "o5uLMSf7jBSi",
        "outputId": "45821e32-07e6-42da-8ed2-f978294a7dd7"
      },
      "execution_count": null,
      "outputs": [
        {
          "output_type": "stream",
          "name": "stderr",
          "text": [
            "\r[*********************100%***********************]  1 of 1 completed\n",
            "/usr/local/lib/python3.11/dist-packages/statsmodels/tsa/base/tsa_model.py:473: ValueWarning: A date index has been provided, but it has no associated frequency information and so will be ignored when e.g. forecasting.\n",
            "  self._init_dates(dates, freq)\n",
            "/usr/local/lib/python3.11/dist-packages/statsmodels/tsa/base/tsa_model.py:473: ValueWarning: A date index has been provided, but it has no associated frequency information and so will be ignored when e.g. forecasting.\n",
            "  self._init_dates(dates, freq)\n",
            "/usr/local/lib/python3.11/dist-packages/statsmodels/tsa/base/tsa_model.py:473: ValueWarning: A date index has been provided, but it has no associated frequency information and so will be ignored when e.g. forecasting.\n",
            "  self._init_dates(dates, freq)\n"
          ]
        },
        {
          "output_type": "stream",
          "name": "stdout",
          "text": [
            "Trading decision for five days         Date  Predicted Price  \\\n",
            "0 2025-03-10       111.020530   \n",
            "1 2025-03-11       110.832228   \n",
            "2 2025-03-12       111.197960   \n",
            "3 2025-03-13       111.127217   \n",
            "4 2025-03-14       111.490874   \n",
            "\n",
            "                                            Decision  \n",
            "0  BUY Ticker\\nNVDA    90.0\\nName: 2025-03-06 00:...  \n",
            "1                                      SELL 0 shares  \n",
            "2                                               HOLD  \n",
            "3                                      SELL 0 shares  \n",
            "4                                               HOLD  \n"
          ]
        },
        {
          "output_type": "stream",
          "name": "stderr",
          "text": [
            "/usr/local/lib/python3.11/dist-packages/statsmodels/tsa/base/tsa_model.py:837: ValueWarning: No supported index is available. Prediction results will be given with an integer index beginning at `start`.\n",
            "  return get_prediction_index(\n",
            "/usr/local/lib/python3.11/dist-packages/statsmodels/tsa/base/tsa_model.py:837: FutureWarning: No supported index is available. In the next version, calling this method in a model without a supported index will result in an exception.\n",
            "  return get_prediction_index(\n"
          ]
        }
      ]
    }
  ]
}